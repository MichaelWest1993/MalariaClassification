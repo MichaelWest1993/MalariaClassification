{
 "cells": [
  {
   "cell_type": "code",
   "execution_count": 1,
   "metadata": {},
   "outputs": [],
   "source": [
    "import seaborn as sns\n",
    "import pandas as pd\n",
    "import numpy as np\n",
    "import os\n",
    "import matplotlib.pyplot as plt\n",
    "import matplotlib\n",
    "import scipy\n",
    "\n",
    "\n",
    "\n",
    "\n",
    "\n",
    "data=[]\n",
    "labels=[]\n",
    "uninfected_data = os.listdir('/Users/michaelwest/PycharmProjects/MalariaClassification/Uninfected')\n",
    "infected_data = os.listdir('/Users/michaelwest/PycharmProjects/MalariaClassification/Parasitized')\n",
    "\n",
    "plt.figure(figsize = (12,12))\n",
    "for i in range(4):\n",
    "    plt.subplot(1, 4, i+1)\n",
    "    img = plt.imread('/Users/michaelwest/PycharmProjects/MalariaClassification/Parasitized' + \"/\" + infected_data[i])\n",
    "    plt.imshow(img)\n",
    "    plt.title('INFECTED')\n",
    "    plt.tight_layout()\n",
    "#plt.show()\n",
    "    \n",
    "plt.figure(figsize = (12,12))\n",
    "for i in range(4):\n",
    "    plt.subplot(1, 4, i+1)\n",
    "    img = plt.imread('/Users/michaelwest/PycharmProjects/MalariaClassification/Uninfected' + \"/\" + uninfected_data[i])\n",
    "    plt.imshow(img)\n",
    "    plt.title('UNINFECTED')\n",
    "    plt.tight_layout()\n",
    "#plt.show()\n",
    "\n",
    "\n",
    "from skimage import data\n",
    "from skimage.transform import rescale, resize, downscale_local_mean\n",
    "\n",
    "for img in infected_data:\n",
    "    try:\n",
    "        img = plt.imread('/Users/michaelwest/PycharmProjects/MalariaClassification/Parasitized' + \"/\" + img)\n",
    "        img_resize = resize(img, (50, 50))\n",
    "        img_array = np.asarray(img_resize)\n",
    "        img_array=img_array/255\n",
    "        data.append(img_array)\n",
    "        labels.append(1)\n",
    "    except:\n",
    "        None\n",
    "\n",
    "#plt.imshow(data[0])\n",
    "#plt.show()\n"
   ]
  },
  {
   "cell_type": "code",
   "execution_count": 52,
   "metadata": {},
   "outputs": [],
   "source": [
    "\n"
   ]
  },
  {
   "cell_type": "code",
   "execution_count": null,
   "metadata": {},
   "outputs": [],
   "source": []
  }
 ],
 "metadata": {
  "kernelspec": {
   "display_name": "Python 3",
   "language": "python",
   "name": "python3"
  },
  "language_info": {
   "codemirror_mode": {
    "name": "ipython",
    "version": 3
   },
   "file_extension": ".py",
   "mimetype": "text/x-python",
   "name": "python",
   "nbconvert_exporter": "python",
   "pygments_lexer": "ipython3",
   "version": "3.6.0"
  }
 },
 "nbformat": 4,
 "nbformat_minor": 1
}
