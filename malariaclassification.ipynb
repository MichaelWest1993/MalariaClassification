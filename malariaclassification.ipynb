{
 "cells": [
  {
   "cell_type": "code",
   "execution_count": 136,
   "metadata": {},
   "outputs": [
    {
     "ename": "SyntaxError",
     "evalue": "invalid syntax (<ipython-input-136-ec441c3127c3>, line 14)",
     "traceback": [
      "\u001b[0;36m  File \u001b[0;32m\"<ipython-input-136-ec441c3127c3>\"\u001b[0;36m, line \u001b[0;32m14\u001b[0m\n\u001b[0;31m    from sklearn.cross_validation import\u001b[0m\n\u001b[0m                                        ^\u001b[0m\n\u001b[0;31mSyntaxError\u001b[0m\u001b[0;31m:\u001b[0m invalid syntax\n"
     ],
     "output_type": "error"
    }
   ],
   "source": [
    "import seaborn as sns\n",
    "\n",
    "import pandas as pd\n",
    "import numpy as np\n",
    "import cv2\n",
    "import os\n",
    "\n",
    "import matplotlib\n",
    "import matplotlib.pyplot as plt\n",
    "\n",
    "import scipy\n",
    "\n",
    "from PIL import Image\n",
    "from sklearn.cross_validation import train_test_split\n",
    "\n",
    "uninfected_data = os.listdir('/Users/michaelwest/PycharmProjects/MalariaClassification/CellImages/Uninfected')\n",
    "infected_data = os.listdir('/Users/michaelwest/PycharmProjects/MalariaClassification/CellImages/Parasitized')\n",
    "\n",
    "\n",
    "\n",
    "plt.figure(figsize = (12,12))        \n",
    "for i in range(4):\n",
    "    plt.subplot(1, 4, i+1)\n",
    "    img = plt.imread('/Users/michaelwest/PycharmProjects/MalariaClassification/CellImages/Parasitized' + \"/\" + infected_data[i])\n",
    "    plt.imshow(img)\n",
    "    plt.title('INFECTED')\n",
    "    plt.tight_layout()\n",
    "plt.show()\n",
    "    \n",
    "plt.figure(figsize = (12,12))\n",
    "for i in range(4):\n",
    "    plt.subplot(1, 4, i+1)\n",
    "    img = plt.imread('/Users/michaelwest/PycharmProjects/MalariaClassification/CellImages/Uninfected' + \"/\" + uninfected_data[i])\n",
    "    plt.imshow(img)\n",
    "    plt.title('UNINFECTED')\n",
    "    plt.tight_layout()\n",
    "plt.show()\n",
    "\n",
    "from skimage import data\n",
    "from skimage.transform import rescale, resize, downscale_local_mean\n",
    "\n",
    "data = []\n",
    "labels = [] \n",
    "target_size = 50\n",
    "\n",
    "for img in infected_data:\n",
    "    try:\n",
    "        img_read = cv2.imread('/Users/michaelwest/PycharmProjects/MalariaClassification/CellImages/Parasitized' + \"/\" + img)\n",
    "        img_array = Image.fromarray(img_read, 'RGB')\n",
    "        img_resize = img_array.resize((target_size, target_size))\n",
    "        data.append(np.array(img_resize)/255)\n",
    "        labels.append(1)\n",
    "    except:\n",
    "        None\n",
    "\n",
    "for img in uninfected_data:\n",
    "    try:\n",
    "        img_read = cv2.imread('/Users/michaelwest/PycharmProjects/MalariaClassification/CellImages/Uninfected' + \"/\" + img)\n",
    "        img_array = Image.fromarray(img_read, 'RGB')\n",
    "        img_resize = img_array.resize((target_size, target_size))\n",
    "        data.append(np.array(img_resize)/255)\n",
    "        labels.append(0)\n",
    "    except:\n",
    "        None\n"
   ]
  },
  {
   "cell_type": "code",
   "execution_count": 135,
   "metadata": {},
   "outputs": [
    {
     "name": "stdout",
     "output_type": "stream",
     "text": [
      "1\n27558\n"
     ]
    },
    {
     "data": {
      "image/png": "[encoded data removed]",
      "text/plain": [
       "<Figure size 432x288 with 1 Axes>"
      ]
     },
     "metadata": {},
     "output_type": "display_data"
    }
   ],
   "source": [
    "plt.imshow(data[4000]\n",
    "      )\n",
    "print (labels[4000])\n",
    "print (len(data))"
   ]
  },
  {
   "cell_type": "code",
   "execution_count": 28,
   "metadata": {},
   "outputs": [],
   "source": [
    ""
   ]
  },
  {
   "cell_type": "code",
   "execution_count": null,
   "metadata": {},
   "outputs": [],
   "source": []
  }
 ],
 "metadata": {
  "kernelspec": {
   "display_name": "Python 3",
   "language": "python",
   "name": "python3"
  },
  "language_info": {
   "codemirror_mode": {
    "name": "ipython",
    "version": 3
   },
   "file_extension": ".py",
   "mimetype": "text/x-python",
   "name": "python",
   "nbconvert_exporter": "python",
   "pygments_lexer": "ipython3",
   "version": "3.6.0"
  }
 },
 "nbformat": 4,
 "nbformat_minor": 1
}
